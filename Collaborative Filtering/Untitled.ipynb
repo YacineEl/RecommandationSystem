{
 "cells": [
  {
   "cell_type": "code",
   "execution_count": 1,
   "id": "38e98f5b",
   "metadata": {},
   "outputs": [],
   "source": [
    "import numpy as np\n",
    "from scipy.sparse import csr_matrix\n",
    "\n",
    "# Create a sample user-item matrix (replace this with your actual data)\n",
    "user_item_matrix = np.array([[5, 0, 3, 0],\n",
    "                             [0, 0, 0, 4],\n",
    "                             [1, 0, 0, 0]])\n",
    "\n",
    "# Convert the user-item matrix to a csr_matrix\n",
    "csr_user_item_matrix = csr_matrix(user_item_matrix)"
   ]
  },
  {
   "cell_type": "code",
   "execution_count": 3,
   "id": "45615619",
   "metadata": {},
   "outputs": [
    {
     "name": "stdout",
     "output_type": "stream",
     "text": [
      "  (0, 0)\t5\n",
      "  (0, 2)\t3\n",
      "  (1, 3)\t4\n",
      "  (2, 0)\t1\n"
     ]
    }
   ],
   "source": [
    "print(csr_user_item_matrix)"
   ]
  },
  {
   "cell_type": "code",
   "execution_count": 4,
   "id": "aee9e7a5",
   "metadata": {},
   "outputs": [
    {
     "data": {
      "text/plain": [
       "array([[5, 0, 3, 0],\n",
       "       [0, 0, 0, 4],\n",
       "       [1, 0, 0, 0]])"
      ]
     },
     "execution_count": 4,
     "metadata": {},
     "output_type": "execute_result"
    }
   ],
   "source": [
    "user_item_matrix "
   ]
  }
 ],
 "metadata": {
  "kernelspec": {
   "display_name": "Python 3 (ipykernel)",
   "language": "python",
   "name": "python3"
  },
  "language_info": {
   "codemirror_mode": {
    "name": "ipython",
    "version": 3
   },
   "file_extension": ".py",
   "mimetype": "text/x-python",
   "name": "python",
   "nbconvert_exporter": "python",
   "pygments_lexer": "ipython3",
   "version": "3.8.0"
  }
 },
 "nbformat": 4,
 "nbformat_minor": 5
}
